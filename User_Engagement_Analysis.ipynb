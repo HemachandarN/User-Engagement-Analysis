{
 "cells": [
  {
   "cell_type": "markdown",
   "metadata": {},
   "source": [
    "# User Engagement Analysis"
   ]
  },
  {
   "cell_type": "markdown",
   "metadata": {},
   "source": [
    "## Data Import"
   ]
  },
  {
   "cell_type": "code",
   "execution_count": 1,
   "metadata": {},
   "outputs": [],
   "source": [
    "import pandas as pd\n",
    "import seaborn as sns\n",
    "import matplotlib.pyplot as plt\n",
    "import warnings\n",
    "warnings.filterwarnings(\"ignore\")"
   ]
  },
  {
   "cell_type": "code",
   "execution_count": 2,
   "metadata": {},
   "outputs": [],
   "source": [
    "data = pd.read_csv(\"showwcase_sessions.csv\")"
   ]
  },
  {
   "cell_type": "code",
   "execution_count": 3,
   "metadata": {},
   "outputs": [
    {
     "data": {
      "text/html": [
       "<div>\n",
       "<style scoped>\n",
       "    .dataframe tbody tr th:only-of-type {\n",
       "        vertical-align: middle;\n",
       "    }\n",
       "\n",
       "    .dataframe tbody tr th {\n",
       "        vertical-align: top;\n",
       "    }\n",
       "\n",
       "    .dataframe thead th {\n",
       "        text-align: right;\n",
       "    }\n",
       "</style>\n",
       "<table border=\"1\" class=\"dataframe\">\n",
       "  <thead>\n",
       "    <tr style=\"text-align: right;\">\n",
       "      <th></th>\n",
       "      <th>session_id</th>\n",
       "      <th>customer_id</th>\n",
       "      <th>login_date</th>\n",
       "      <th>projects_added</th>\n",
       "      <th>likes_given</th>\n",
       "      <th>comment_given</th>\n",
       "      <th>inactive_status</th>\n",
       "      <th>bug_occured</th>\n",
       "      <th>session_projects_added</th>\n",
       "      <th>session_likes_given</th>\n",
       "      <th>session_comments_given</th>\n",
       "      <th>inactive_duration</th>\n",
       "      <th>bugs_in_session</th>\n",
       "      <th>session_duration</th>\n",
       "    </tr>\n",
       "  </thead>\n",
       "  <tbody>\n",
       "    <tr>\n",
       "      <th>0</th>\n",
       "      <td>624205.0</td>\n",
       "      <td>80746.0</td>\n",
       "      <td>10/30/19</td>\n",
       "      <td>False</td>\n",
       "      <td>True</td>\n",
       "      <td>True</td>\n",
       "      <td>True</td>\n",
       "      <td>False</td>\n",
       "      <td>0.0</td>\n",
       "      <td>24.0</td>\n",
       "      <td>3.0</td>\n",
       "      <td>1146.0</td>\n",
       "      <td>0.0</td>\n",
       "      <td>1564.0</td>\n",
       "    </tr>\n",
       "    <tr>\n",
       "      <th>1</th>\n",
       "      <td>624241.0</td>\n",
       "      <td>24520.0</td>\n",
       "      <td>10/30/19</td>\n",
       "      <td>True</td>\n",
       "      <td>True</td>\n",
       "      <td>True</td>\n",
       "      <td>True</td>\n",
       "      <td>False</td>\n",
       "      <td>2.0</td>\n",
       "      <td>3.0</td>\n",
       "      <td>5.0</td>\n",
       "      <td>133.0</td>\n",
       "      <td>0.0</td>\n",
       "      <td>1766.0</td>\n",
       "    </tr>\n",
       "    <tr>\n",
       "      <th>2</th>\n",
       "      <td>111002.0</td>\n",
       "      <td>32047.0</td>\n",
       "      <td>10/30/19</td>\n",
       "      <td>True</td>\n",
       "      <td>True</td>\n",
       "      <td>True</td>\n",
       "      <td>True</td>\n",
       "      <td>False</td>\n",
       "      <td>1.0</td>\n",
       "      <td>5.0</td>\n",
       "      <td>5.0</td>\n",
       "      <td>1571.0</td>\n",
       "      <td>0.0</td>\n",
       "      <td>2230.0</td>\n",
       "    </tr>\n",
       "    <tr>\n",
       "      <th>3</th>\n",
       "      <td>545113.0</td>\n",
       "      <td>23404.0</td>\n",
       "      <td>10/30/19</td>\n",
       "      <td>True</td>\n",
       "      <td>True</td>\n",
       "      <td>True</td>\n",
       "      <td>False</td>\n",
       "      <td>False</td>\n",
       "      <td>1.0</td>\n",
       "      <td>10.0</td>\n",
       "      <td>21.0</td>\n",
       "      <td>0.0</td>\n",
       "      <td>0.0</td>\n",
       "      <td>633.0</td>\n",
       "    </tr>\n",
       "    <tr>\n",
       "      <th>4</th>\n",
       "      <td>750269.0</td>\n",
       "      <td>40235.0</td>\n",
       "      <td>10/30/19</td>\n",
       "      <td>True</td>\n",
       "      <td>True</td>\n",
       "      <td>False</td>\n",
       "      <td>True</td>\n",
       "      <td>False</td>\n",
       "      <td>3.0</td>\n",
       "      <td>16.0</td>\n",
       "      <td>0.0</td>\n",
       "      <td>1405.0</td>\n",
       "      <td>0.0</td>\n",
       "      <td>1679.0</td>\n",
       "    </tr>\n",
       "    <tr>\n",
       "      <th>...</th>\n",
       "      <td>...</td>\n",
       "      <td>...</td>\n",
       "      <td>...</td>\n",
       "      <td>...</td>\n",
       "      <td>...</td>\n",
       "      <td>...</td>\n",
       "      <td>...</td>\n",
       "      <td>...</td>\n",
       "      <td>...</td>\n",
       "      <td>...</td>\n",
       "      <td>...</td>\n",
       "      <td>...</td>\n",
       "      <td>...</td>\n",
       "      <td>...</td>\n",
       "    </tr>\n",
       "    <tr>\n",
       "      <th>297</th>\n",
       "      <td>643880.0</td>\n",
       "      <td>51243.0</td>\n",
       "      <td>10/1/19</td>\n",
       "      <td>True</td>\n",
       "      <td>False</td>\n",
       "      <td>False</td>\n",
       "      <td>True</td>\n",
       "      <td>False</td>\n",
       "      <td>2.0</td>\n",
       "      <td>0.0</td>\n",
       "      <td>0.0</td>\n",
       "      <td>906.0</td>\n",
       "      <td>0.0</td>\n",
       "      <td>1990.0</td>\n",
       "    </tr>\n",
       "    <tr>\n",
       "      <th>298</th>\n",
       "      <td>844518.0</td>\n",
       "      <td>23083.0</td>\n",
       "      <td>10/1/19</td>\n",
       "      <td>True</td>\n",
       "      <td>False</td>\n",
       "      <td>False</td>\n",
       "      <td>True</td>\n",
       "      <td>False</td>\n",
       "      <td>1.0</td>\n",
       "      <td>0.0</td>\n",
       "      <td>0.0</td>\n",
       "      <td>139.0</td>\n",
       "      <td>0.0</td>\n",
       "      <td>1113.0</td>\n",
       "    </tr>\n",
       "    <tr>\n",
       "      <th>299</th>\n",
       "      <td>933954.0</td>\n",
       "      <td>38459.0</td>\n",
       "      <td>10/1/19</td>\n",
       "      <td>True</td>\n",
       "      <td>False</td>\n",
       "      <td>False</td>\n",
       "      <td>False</td>\n",
       "      <td>False</td>\n",
       "      <td>1.0</td>\n",
       "      <td>0.0</td>\n",
       "      <td>0.0</td>\n",
       "      <td>0.0</td>\n",
       "      <td>0.0</td>\n",
       "      <td>306.0</td>\n",
       "    </tr>\n",
       "    <tr>\n",
       "      <th>300</th>\n",
       "      <td>NaN</td>\n",
       "      <td>NaN</td>\n",
       "      <td>NaN</td>\n",
       "      <td>NaN</td>\n",
       "      <td>NaN</td>\n",
       "      <td>NaN</td>\n",
       "      <td>NaN</td>\n",
       "      <td>NaN</td>\n",
       "      <td>NaN</td>\n",
       "      <td>NaN</td>\n",
       "      <td>NaN</td>\n",
       "      <td>NaN</td>\n",
       "      <td>NaN</td>\n",
       "      <td>NaN</td>\n",
       "    </tr>\n",
       "    <tr>\n",
       "      <th>301</th>\n",
       "      <td>NaN</td>\n",
       "      <td>NaN</td>\n",
       "      <td>NaN</td>\n",
       "      <td>NaN</td>\n",
       "      <td>NaN</td>\n",
       "      <td>NaN</td>\n",
       "      <td>NaN</td>\n",
       "      <td>NaN</td>\n",
       "      <td>NaN</td>\n",
       "      <td>NaN</td>\n",
       "      <td>NaN</td>\n",
       "      <td>NaN</td>\n",
       "      <td>NaN</td>\n",
       "      <td>NaN</td>\n",
       "    </tr>\n",
       "  </tbody>\n",
       "</table>\n",
       "<p>302 rows × 14 columns</p>\n",
       "</div>"
      ],
      "text/plain": [
       "     session_id  customer_id login_date projects_added likes_given  \\\n",
       "0      624205.0      80746.0   10/30/19          False        True   \n",
       "1      624241.0      24520.0   10/30/19           True        True   \n",
       "2      111002.0      32047.0   10/30/19           True        True   \n",
       "3      545113.0      23404.0   10/30/19           True        True   \n",
       "4      750269.0      40235.0   10/30/19           True        True   \n",
       "..          ...          ...        ...            ...         ...   \n",
       "297    643880.0      51243.0    10/1/19           True       False   \n",
       "298    844518.0      23083.0    10/1/19           True       False   \n",
       "299    933954.0      38459.0    10/1/19           True       False   \n",
       "300         NaN          NaN        NaN            NaN         NaN   \n",
       "301         NaN          NaN        NaN            NaN         NaN   \n",
       "\n",
       "    comment_given inactive_status bug_occured  session_projects_added  \\\n",
       "0            True            True       False                     0.0   \n",
       "1            True            True       False                     2.0   \n",
       "2            True            True       False                     1.0   \n",
       "3            True           False       False                     1.0   \n",
       "4           False            True       False                     3.0   \n",
       "..            ...             ...         ...                     ...   \n",
       "297         False            True       False                     2.0   \n",
       "298         False            True       False                     1.0   \n",
       "299         False           False       False                     1.0   \n",
       "300           NaN             NaN         NaN                     NaN   \n",
       "301           NaN             NaN         NaN                     NaN   \n",
       "\n",
       "     session_likes_given  session_comments_given  inactive_duration  \\\n",
       "0                   24.0                     3.0             1146.0   \n",
       "1                    3.0                     5.0              133.0   \n",
       "2                    5.0                     5.0             1571.0   \n",
       "3                   10.0                    21.0                0.0   \n",
       "4                   16.0                     0.0             1405.0   \n",
       "..                   ...                     ...                ...   \n",
       "297                  0.0                     0.0              906.0   \n",
       "298                  0.0                     0.0              139.0   \n",
       "299                  0.0                     0.0                0.0   \n",
       "300                  NaN                     NaN                NaN   \n",
       "301                  NaN                     NaN                NaN   \n",
       "\n",
       "     bugs_in_session  session_duration  \n",
       "0                0.0            1564.0  \n",
       "1                0.0            1766.0  \n",
       "2                0.0            2230.0  \n",
       "3                0.0             633.0  \n",
       "4                0.0            1679.0  \n",
       "..               ...               ...  \n",
       "297              0.0            1990.0  \n",
       "298              0.0            1113.0  \n",
       "299              0.0             306.0  \n",
       "300              NaN               NaN  \n",
       "301              NaN               NaN  \n",
       "\n",
       "[302 rows x 14 columns]"
      ]
     },
     "execution_count": 3,
     "metadata": {},
     "output_type": "execute_result"
    }
   ],
   "source": [
    "data"
   ]
  },
  {
   "cell_type": "markdown",
   "metadata": {},
   "source": [
    "## Understanding the Data"
   ]
  },
  {
   "cell_type": "markdown",
   "metadata": {},
   "source": [
    "The dataset consists of records of each session a user completes during the month of October.It is of 302 rows and 14 feature columns. The columns are:\n",
    "\n",
    "● session_id → unique identification number for each session <br/>\n",
    "● customer_id → unique identification number for each customer<br/>\n",
    "● login_date → the date the user logged into Showwcase for that session<br/>\n",
    "● projects_added → boolean if at least one project was added<br/>\n",
    "● likes_given → boolean if at least one like was given<br/>\n",
    "● comment_given → boolean if at least one comment was given<br/>\n",
    "● inactive_status → boolean if the user was inactive or idle<br/>\n",
    "● bugs_occurerd → boolean if a user ran into at least one bug<br/>\n",
    "● session_projects_added → number of projects added<br/>\n",
    "● session_likes_given → number of likes given<br/>\n",
    "● session_comments_given → number of comments given<br/>\n",
    "● inactive_duration → number of seconds a user was inactive or idle<br/>\n",
    "● bugs_in_session → number of bugs a user ran into<br/>\n",
    "● session_duration → number of seconds a user was logged for that session<br/>"
   ]
  },
  {
   "cell_type": "markdown",
   "metadata": {},
   "source": [
    "## Data Preprocessing "
   ]
  },
  {
   "cell_type": "code",
   "execution_count": 4,
   "metadata": {},
   "outputs": [
    {
     "data": {
      "text/plain": [
       "session_id                2\n",
       "customer_id               2\n",
       "login_date                2\n",
       "projects_added            2\n",
       "likes_given               2\n",
       "comment_given             2\n",
       "inactive_status           2\n",
       "bug_occured               2\n",
       "session_projects_added    2\n",
       "session_likes_given       3\n",
       "session_comments_given    2\n",
       "inactive_duration         2\n",
       "bugs_in_session           2\n",
       "session_duration          2\n",
       "dtype: int64"
      ]
     },
     "execution_count": 4,
     "metadata": {},
     "output_type": "execute_result"
    }
   ],
   "source": [
    "data.isna().sum() #Checking for missing values"
   ]
  },
  {
   "cell_type": "code",
   "execution_count": 5,
   "metadata": {},
   "outputs": [],
   "source": [
    "data = data.dropna() #Removing missing values "
   ]
  },
  {
   "cell_type": "code",
   "execution_count": 6,
   "metadata": {},
   "outputs": [
    {
     "data": {
      "text/html": [
       "<div>\n",
       "<style scoped>\n",
       "    .dataframe tbody tr th:only-of-type {\n",
       "        vertical-align: middle;\n",
       "    }\n",
       "\n",
       "    .dataframe tbody tr th {\n",
       "        vertical-align: top;\n",
       "    }\n",
       "\n",
       "    .dataframe thead th {\n",
       "        text-align: right;\n",
       "    }\n",
       "</style>\n",
       "<table border=\"1\" class=\"dataframe\">\n",
       "  <thead>\n",
       "    <tr style=\"text-align: right;\">\n",
       "      <th></th>\n",
       "      <th>session_id</th>\n",
       "      <th>customer_id</th>\n",
       "      <th>login_date</th>\n",
       "      <th>projects_added</th>\n",
       "      <th>likes_given</th>\n",
       "      <th>comment_given</th>\n",
       "      <th>inactive_status</th>\n",
       "      <th>bug_occured</th>\n",
       "      <th>session_projects_added</th>\n",
       "      <th>session_likes_given</th>\n",
       "      <th>session_comments_given</th>\n",
       "      <th>inactive_duration</th>\n",
       "      <th>bugs_in_session</th>\n",
       "      <th>session_duration</th>\n",
       "    </tr>\n",
       "  </thead>\n",
       "  <tbody>\n",
       "    <tr>\n",
       "      <th>0</th>\n",
       "      <td>624205.0</td>\n",
       "      <td>80746.0</td>\n",
       "      <td>10/30/19</td>\n",
       "      <td>False</td>\n",
       "      <td>True</td>\n",
       "      <td>True</td>\n",
       "      <td>True</td>\n",
       "      <td>False</td>\n",
       "      <td>0.0</td>\n",
       "      <td>24.0</td>\n",
       "      <td>3.0</td>\n",
       "      <td>1146.0</td>\n",
       "      <td>0.0</td>\n",
       "      <td>1564.0</td>\n",
       "    </tr>\n",
       "    <tr>\n",
       "      <th>1</th>\n",
       "      <td>624241.0</td>\n",
       "      <td>24520.0</td>\n",
       "      <td>10/30/19</td>\n",
       "      <td>True</td>\n",
       "      <td>True</td>\n",
       "      <td>True</td>\n",
       "      <td>True</td>\n",
       "      <td>False</td>\n",
       "      <td>2.0</td>\n",
       "      <td>3.0</td>\n",
       "      <td>5.0</td>\n",
       "      <td>133.0</td>\n",
       "      <td>0.0</td>\n",
       "      <td>1766.0</td>\n",
       "    </tr>\n",
       "    <tr>\n",
       "      <th>2</th>\n",
       "      <td>111002.0</td>\n",
       "      <td>32047.0</td>\n",
       "      <td>10/30/19</td>\n",
       "      <td>True</td>\n",
       "      <td>True</td>\n",
       "      <td>True</td>\n",
       "      <td>True</td>\n",
       "      <td>False</td>\n",
       "      <td>1.0</td>\n",
       "      <td>5.0</td>\n",
       "      <td>5.0</td>\n",
       "      <td>1571.0</td>\n",
       "      <td>0.0</td>\n",
       "      <td>2230.0</td>\n",
       "    </tr>\n",
       "    <tr>\n",
       "      <th>3</th>\n",
       "      <td>545113.0</td>\n",
       "      <td>23404.0</td>\n",
       "      <td>10/30/19</td>\n",
       "      <td>True</td>\n",
       "      <td>True</td>\n",
       "      <td>True</td>\n",
       "      <td>False</td>\n",
       "      <td>False</td>\n",
       "      <td>1.0</td>\n",
       "      <td>10.0</td>\n",
       "      <td>21.0</td>\n",
       "      <td>0.0</td>\n",
       "      <td>0.0</td>\n",
       "      <td>633.0</td>\n",
       "    </tr>\n",
       "    <tr>\n",
       "      <th>4</th>\n",
       "      <td>750269.0</td>\n",
       "      <td>40235.0</td>\n",
       "      <td>10/30/19</td>\n",
       "      <td>True</td>\n",
       "      <td>True</td>\n",
       "      <td>False</td>\n",
       "      <td>True</td>\n",
       "      <td>False</td>\n",
       "      <td>3.0</td>\n",
       "      <td>16.0</td>\n",
       "      <td>0.0</td>\n",
       "      <td>1405.0</td>\n",
       "      <td>0.0</td>\n",
       "      <td>1679.0</td>\n",
       "    </tr>\n",
       "    <tr>\n",
       "      <th>...</th>\n",
       "      <td>...</td>\n",
       "      <td>...</td>\n",
       "      <td>...</td>\n",
       "      <td>...</td>\n",
       "      <td>...</td>\n",
       "      <td>...</td>\n",
       "      <td>...</td>\n",
       "      <td>...</td>\n",
       "      <td>...</td>\n",
       "      <td>...</td>\n",
       "      <td>...</td>\n",
       "      <td>...</td>\n",
       "      <td>...</td>\n",
       "      <td>...</td>\n",
       "    </tr>\n",
       "    <tr>\n",
       "      <th>295</th>\n",
       "      <td>944212.0</td>\n",
       "      <td>40572.0</td>\n",
       "      <td>10/1/19</td>\n",
       "      <td>True</td>\n",
       "      <td>True</td>\n",
       "      <td>False</td>\n",
       "      <td>True</td>\n",
       "      <td>False</td>\n",
       "      <td>3.0</td>\n",
       "      <td>13.0</td>\n",
       "      <td>0.0</td>\n",
       "      <td>1174.0</td>\n",
       "      <td>0.0</td>\n",
       "      <td>2255.0</td>\n",
       "    </tr>\n",
       "    <tr>\n",
       "      <th>296</th>\n",
       "      <td>558332.0</td>\n",
       "      <td>87323.0</td>\n",
       "      <td>10/1/19</td>\n",
       "      <td>True</td>\n",
       "      <td>False</td>\n",
       "      <td>False</td>\n",
       "      <td>True</td>\n",
       "      <td>False</td>\n",
       "      <td>2.0</td>\n",
       "      <td>0.0</td>\n",
       "      <td>0.0</td>\n",
       "      <td>97.0</td>\n",
       "      <td>0.0</td>\n",
       "      <td>1692.0</td>\n",
       "    </tr>\n",
       "    <tr>\n",
       "      <th>297</th>\n",
       "      <td>643880.0</td>\n",
       "      <td>51243.0</td>\n",
       "      <td>10/1/19</td>\n",
       "      <td>True</td>\n",
       "      <td>False</td>\n",
       "      <td>False</td>\n",
       "      <td>True</td>\n",
       "      <td>False</td>\n",
       "      <td>2.0</td>\n",
       "      <td>0.0</td>\n",
       "      <td>0.0</td>\n",
       "      <td>906.0</td>\n",
       "      <td>0.0</td>\n",
       "      <td>1990.0</td>\n",
       "    </tr>\n",
       "    <tr>\n",
       "      <th>298</th>\n",
       "      <td>844518.0</td>\n",
       "      <td>23083.0</td>\n",
       "      <td>10/1/19</td>\n",
       "      <td>True</td>\n",
       "      <td>False</td>\n",
       "      <td>False</td>\n",
       "      <td>True</td>\n",
       "      <td>False</td>\n",
       "      <td>1.0</td>\n",
       "      <td>0.0</td>\n",
       "      <td>0.0</td>\n",
       "      <td>139.0</td>\n",
       "      <td>0.0</td>\n",
       "      <td>1113.0</td>\n",
       "    </tr>\n",
       "    <tr>\n",
       "      <th>299</th>\n",
       "      <td>933954.0</td>\n",
       "      <td>38459.0</td>\n",
       "      <td>10/1/19</td>\n",
       "      <td>True</td>\n",
       "      <td>False</td>\n",
       "      <td>False</td>\n",
       "      <td>False</td>\n",
       "      <td>False</td>\n",
       "      <td>1.0</td>\n",
       "      <td>0.0</td>\n",
       "      <td>0.0</td>\n",
       "      <td>0.0</td>\n",
       "      <td>0.0</td>\n",
       "      <td>306.0</td>\n",
       "    </tr>\n",
       "  </tbody>\n",
       "</table>\n",
       "<p>299 rows × 14 columns</p>\n",
       "</div>"
      ],
      "text/plain": [
       "     session_id  customer_id login_date projects_added likes_given  \\\n",
       "0      624205.0      80746.0   10/30/19          False        True   \n",
       "1      624241.0      24520.0   10/30/19           True        True   \n",
       "2      111002.0      32047.0   10/30/19           True        True   \n",
       "3      545113.0      23404.0   10/30/19           True        True   \n",
       "4      750269.0      40235.0   10/30/19           True        True   \n",
       "..          ...          ...        ...            ...         ...   \n",
       "295    944212.0      40572.0    10/1/19           True        True   \n",
       "296    558332.0      87323.0    10/1/19           True       False   \n",
       "297    643880.0      51243.0    10/1/19           True       False   \n",
       "298    844518.0      23083.0    10/1/19           True       False   \n",
       "299    933954.0      38459.0    10/1/19           True       False   \n",
       "\n",
       "    comment_given inactive_status bug_occured  session_projects_added  \\\n",
       "0            True            True       False                     0.0   \n",
       "1            True            True       False                     2.0   \n",
       "2            True            True       False                     1.0   \n",
       "3            True           False       False                     1.0   \n",
       "4           False            True       False                     3.0   \n",
       "..            ...             ...         ...                     ...   \n",
       "295         False            True       False                     3.0   \n",
       "296         False            True       False                     2.0   \n",
       "297         False            True       False                     2.0   \n",
       "298         False            True       False                     1.0   \n",
       "299         False           False       False                     1.0   \n",
       "\n",
       "     session_likes_given  session_comments_given  inactive_duration  \\\n",
       "0                   24.0                     3.0             1146.0   \n",
       "1                    3.0                     5.0              133.0   \n",
       "2                    5.0                     5.0             1571.0   \n",
       "3                   10.0                    21.0                0.0   \n",
       "4                   16.0                     0.0             1405.0   \n",
       "..                   ...                     ...                ...   \n",
       "295                 13.0                     0.0             1174.0   \n",
       "296                  0.0                     0.0               97.0   \n",
       "297                  0.0                     0.0              906.0   \n",
       "298                  0.0                     0.0              139.0   \n",
       "299                  0.0                     0.0                0.0   \n",
       "\n",
       "     bugs_in_session  session_duration  \n",
       "0                0.0            1564.0  \n",
       "1                0.0            1766.0  \n",
       "2                0.0            2230.0  \n",
       "3                0.0             633.0  \n",
       "4                0.0            1679.0  \n",
       "..               ...               ...  \n",
       "295              0.0            2255.0  \n",
       "296              0.0            1692.0  \n",
       "297              0.0            1990.0  \n",
       "298              0.0            1113.0  \n",
       "299              0.0             306.0  \n",
       "\n",
       "[299 rows x 14 columns]"
      ]
     },
     "execution_count": 6,
     "metadata": {},
     "output_type": "execute_result"
    }
   ],
   "source": [
    "data "
   ]
  },
  {
   "cell_type": "code",
   "execution_count": 7,
   "metadata": {},
   "outputs": [
    {
     "data": {
      "text/plain": [
       "session_id                float64\n",
       "customer_id               float64\n",
       "login_date                 object\n",
       "projects_added             object\n",
       "likes_given                object\n",
       "comment_given              object\n",
       "inactive_status            object\n",
       "bug_occured                object\n",
       "session_projects_added    float64\n",
       "session_likes_given       float64\n",
       "session_comments_given    float64\n",
       "inactive_duration         float64\n",
       "bugs_in_session           float64\n",
       "session_duration          float64\n",
       "dtype: object"
      ]
     },
     "execution_count": 7,
     "metadata": {},
     "output_type": "execute_result"
    }
   ],
   "source": [
    "data.dtypes"
   ]
  },
  {
   "cell_type": "code",
   "execution_count": 8,
   "metadata": {},
   "outputs": [],
   "source": [
    "data['login_date'] = pd.to_datetime(data['login_date']) #Converting login_date to datetime object "
   ]
  },
  {
   "cell_type": "code",
   "execution_count": 9,
   "metadata": {},
   "outputs": [],
   "source": [
    "data[\"day_of_week\"] = data['login_date'].dt.day_name() #picking out day of the week "
   ]
  },
  {
   "cell_type": "code",
   "execution_count": 10,
   "metadata": {},
   "outputs": [
    {
     "data": {
      "text/html": [
       "<div>\n",
       "<style scoped>\n",
       "    .dataframe tbody tr th:only-of-type {\n",
       "        vertical-align: middle;\n",
       "    }\n",
       "\n",
       "    .dataframe tbody tr th {\n",
       "        vertical-align: top;\n",
       "    }\n",
       "\n",
       "    .dataframe thead th {\n",
       "        text-align: right;\n",
       "    }\n",
       "</style>\n",
       "<table border=\"1\" class=\"dataframe\">\n",
       "  <thead>\n",
       "    <tr style=\"text-align: right;\">\n",
       "      <th></th>\n",
       "      <th>session_id</th>\n",
       "      <th>customer_id</th>\n",
       "      <th>login_date</th>\n",
       "      <th>projects_added</th>\n",
       "      <th>likes_given</th>\n",
       "      <th>comment_given</th>\n",
       "      <th>inactive_status</th>\n",
       "      <th>bug_occured</th>\n",
       "      <th>session_projects_added</th>\n",
       "      <th>session_likes_given</th>\n",
       "      <th>session_comments_given</th>\n",
       "      <th>inactive_duration</th>\n",
       "      <th>bugs_in_session</th>\n",
       "      <th>session_duration</th>\n",
       "      <th>day_of_week</th>\n",
       "    </tr>\n",
       "  </thead>\n",
       "  <tbody>\n",
       "    <tr>\n",
       "      <th>0</th>\n",
       "      <td>624205.0</td>\n",
       "      <td>80746.0</td>\n",
       "      <td>2019-10-30</td>\n",
       "      <td>False</td>\n",
       "      <td>True</td>\n",
       "      <td>True</td>\n",
       "      <td>True</td>\n",
       "      <td>False</td>\n",
       "      <td>0.0</td>\n",
       "      <td>24.0</td>\n",
       "      <td>3.0</td>\n",
       "      <td>1146.0</td>\n",
       "      <td>0.0</td>\n",
       "      <td>1564.0</td>\n",
       "      <td>Wednesday</td>\n",
       "    </tr>\n",
       "    <tr>\n",
       "      <th>1</th>\n",
       "      <td>624241.0</td>\n",
       "      <td>24520.0</td>\n",
       "      <td>2019-10-30</td>\n",
       "      <td>True</td>\n",
       "      <td>True</td>\n",
       "      <td>True</td>\n",
       "      <td>True</td>\n",
       "      <td>False</td>\n",
       "      <td>2.0</td>\n",
       "      <td>3.0</td>\n",
       "      <td>5.0</td>\n",
       "      <td>133.0</td>\n",
       "      <td>0.0</td>\n",
       "      <td>1766.0</td>\n",
       "      <td>Wednesday</td>\n",
       "    </tr>\n",
       "    <tr>\n",
       "      <th>2</th>\n",
       "      <td>111002.0</td>\n",
       "      <td>32047.0</td>\n",
       "      <td>2019-10-30</td>\n",
       "      <td>True</td>\n",
       "      <td>True</td>\n",
       "      <td>True</td>\n",
       "      <td>True</td>\n",
       "      <td>False</td>\n",
       "      <td>1.0</td>\n",
       "      <td>5.0</td>\n",
       "      <td>5.0</td>\n",
       "      <td>1571.0</td>\n",
       "      <td>0.0</td>\n",
       "      <td>2230.0</td>\n",
       "      <td>Wednesday</td>\n",
       "    </tr>\n",
       "    <tr>\n",
       "      <th>3</th>\n",
       "      <td>545113.0</td>\n",
       "      <td>23404.0</td>\n",
       "      <td>2019-10-30</td>\n",
       "      <td>True</td>\n",
       "      <td>True</td>\n",
       "      <td>True</td>\n",
       "      <td>False</td>\n",
       "      <td>False</td>\n",
       "      <td>1.0</td>\n",
       "      <td>10.0</td>\n",
       "      <td>21.0</td>\n",
       "      <td>0.0</td>\n",
       "      <td>0.0</td>\n",
       "      <td>633.0</td>\n",
       "      <td>Wednesday</td>\n",
       "    </tr>\n",
       "    <tr>\n",
       "      <th>4</th>\n",
       "      <td>750269.0</td>\n",
       "      <td>40235.0</td>\n",
       "      <td>2019-10-30</td>\n",
       "      <td>True</td>\n",
       "      <td>True</td>\n",
       "      <td>False</td>\n",
       "      <td>True</td>\n",
       "      <td>False</td>\n",
       "      <td>3.0</td>\n",
       "      <td>16.0</td>\n",
       "      <td>0.0</td>\n",
       "      <td>1405.0</td>\n",
       "      <td>0.0</td>\n",
       "      <td>1679.0</td>\n",
       "      <td>Wednesday</td>\n",
       "    </tr>\n",
       "    <tr>\n",
       "      <th>...</th>\n",
       "      <td>...</td>\n",
       "      <td>...</td>\n",
       "      <td>...</td>\n",
       "      <td>...</td>\n",
       "      <td>...</td>\n",
       "      <td>...</td>\n",
       "      <td>...</td>\n",
       "      <td>...</td>\n",
       "      <td>...</td>\n",
       "      <td>...</td>\n",
       "      <td>...</td>\n",
       "      <td>...</td>\n",
       "      <td>...</td>\n",
       "      <td>...</td>\n",
       "      <td>...</td>\n",
       "    </tr>\n",
       "    <tr>\n",
       "      <th>295</th>\n",
       "      <td>944212.0</td>\n",
       "      <td>40572.0</td>\n",
       "      <td>2019-10-01</td>\n",
       "      <td>True</td>\n",
       "      <td>True</td>\n",
       "      <td>False</td>\n",
       "      <td>True</td>\n",
       "      <td>False</td>\n",
       "      <td>3.0</td>\n",
       "      <td>13.0</td>\n",
       "      <td>0.0</td>\n",
       "      <td>1174.0</td>\n",
       "      <td>0.0</td>\n",
       "      <td>2255.0</td>\n",
       "      <td>Tuesday</td>\n",
       "    </tr>\n",
       "    <tr>\n",
       "      <th>296</th>\n",
       "      <td>558332.0</td>\n",
       "      <td>87323.0</td>\n",
       "      <td>2019-10-01</td>\n",
       "      <td>True</td>\n",
       "      <td>False</td>\n",
       "      <td>False</td>\n",
       "      <td>True</td>\n",
       "      <td>False</td>\n",
       "      <td>2.0</td>\n",
       "      <td>0.0</td>\n",
       "      <td>0.0</td>\n",
       "      <td>97.0</td>\n",
       "      <td>0.0</td>\n",
       "      <td>1692.0</td>\n",
       "      <td>Tuesday</td>\n",
       "    </tr>\n",
       "    <tr>\n",
       "      <th>297</th>\n",
       "      <td>643880.0</td>\n",
       "      <td>51243.0</td>\n",
       "      <td>2019-10-01</td>\n",
       "      <td>True</td>\n",
       "      <td>False</td>\n",
       "      <td>False</td>\n",
       "      <td>True</td>\n",
       "      <td>False</td>\n",
       "      <td>2.0</td>\n",
       "      <td>0.0</td>\n",
       "      <td>0.0</td>\n",
       "      <td>906.0</td>\n",
       "      <td>0.0</td>\n",
       "      <td>1990.0</td>\n",
       "      <td>Tuesday</td>\n",
       "    </tr>\n",
       "    <tr>\n",
       "      <th>298</th>\n",
       "      <td>844518.0</td>\n",
       "      <td>23083.0</td>\n",
       "      <td>2019-10-01</td>\n",
       "      <td>True</td>\n",
       "      <td>False</td>\n",
       "      <td>False</td>\n",
       "      <td>True</td>\n",
       "      <td>False</td>\n",
       "      <td>1.0</td>\n",
       "      <td>0.0</td>\n",
       "      <td>0.0</td>\n",
       "      <td>139.0</td>\n",
       "      <td>0.0</td>\n",
       "      <td>1113.0</td>\n",
       "      <td>Tuesday</td>\n",
       "    </tr>\n",
       "    <tr>\n",
       "      <th>299</th>\n",
       "      <td>933954.0</td>\n",
       "      <td>38459.0</td>\n",
       "      <td>2019-10-01</td>\n",
       "      <td>True</td>\n",
       "      <td>False</td>\n",
       "      <td>False</td>\n",
       "      <td>False</td>\n",
       "      <td>False</td>\n",
       "      <td>1.0</td>\n",
       "      <td>0.0</td>\n",
       "      <td>0.0</td>\n",
       "      <td>0.0</td>\n",
       "      <td>0.0</td>\n",
       "      <td>306.0</td>\n",
       "      <td>Tuesday</td>\n",
       "    </tr>\n",
       "  </tbody>\n",
       "</table>\n",
       "<p>299 rows × 15 columns</p>\n",
       "</div>"
      ],
      "text/plain": [
       "     session_id  customer_id login_date projects_added likes_given  \\\n",
       "0      624205.0      80746.0 2019-10-30          False        True   \n",
       "1      624241.0      24520.0 2019-10-30           True        True   \n",
       "2      111002.0      32047.0 2019-10-30           True        True   \n",
       "3      545113.0      23404.0 2019-10-30           True        True   \n",
       "4      750269.0      40235.0 2019-10-30           True        True   \n",
       "..          ...          ...        ...            ...         ...   \n",
       "295    944212.0      40572.0 2019-10-01           True        True   \n",
       "296    558332.0      87323.0 2019-10-01           True       False   \n",
       "297    643880.0      51243.0 2019-10-01           True       False   \n",
       "298    844518.0      23083.0 2019-10-01           True       False   \n",
       "299    933954.0      38459.0 2019-10-01           True       False   \n",
       "\n",
       "    comment_given inactive_status bug_occured  session_projects_added  \\\n",
       "0            True            True       False                     0.0   \n",
       "1            True            True       False                     2.0   \n",
       "2            True            True       False                     1.0   \n",
       "3            True           False       False                     1.0   \n",
       "4           False            True       False                     3.0   \n",
       "..            ...             ...         ...                     ...   \n",
       "295         False            True       False                     3.0   \n",
       "296         False            True       False                     2.0   \n",
       "297         False            True       False                     2.0   \n",
       "298         False            True       False                     1.0   \n",
       "299         False           False       False                     1.0   \n",
       "\n",
       "     session_likes_given  session_comments_given  inactive_duration  \\\n",
       "0                   24.0                     3.0             1146.0   \n",
       "1                    3.0                     5.0              133.0   \n",
       "2                    5.0                     5.0             1571.0   \n",
       "3                   10.0                    21.0                0.0   \n",
       "4                   16.0                     0.0             1405.0   \n",
       "..                   ...                     ...                ...   \n",
       "295                 13.0                     0.0             1174.0   \n",
       "296                  0.0                     0.0               97.0   \n",
       "297                  0.0                     0.0              906.0   \n",
       "298                  0.0                     0.0              139.0   \n",
       "299                  0.0                     0.0                0.0   \n",
       "\n",
       "     bugs_in_session  session_duration day_of_week  \n",
       "0                0.0            1564.0   Wednesday  \n",
       "1                0.0            1766.0   Wednesday  \n",
       "2                0.0            2230.0   Wednesday  \n",
       "3                0.0             633.0   Wednesday  \n",
       "4                0.0            1679.0   Wednesday  \n",
       "..               ...               ...         ...  \n",
       "295              0.0            2255.0     Tuesday  \n",
       "296              0.0            1692.0     Tuesday  \n",
       "297              0.0            1990.0     Tuesday  \n",
       "298              0.0            1113.0     Tuesday  \n",
       "299              0.0             306.0     Tuesday  \n",
       "\n",
       "[299 rows x 15 columns]"
      ]
     },
     "execution_count": 10,
     "metadata": {},
     "output_type": "execute_result"
    }
   ],
   "source": [
    "data"
   ]
  },
  {
   "cell_type": "code",
   "execution_count": 11,
   "metadata": {},
   "outputs": [],
   "source": [
    "data.to_csv(r'new.csv', index = False) #saving the preprocessed file as csv to use it for Tableau Visualizations"
   ]
  },
  {
   "cell_type": "markdown",
   "metadata": {},
   "source": [
    "## **Exploratory Data Analysis**"
   ]
  },
  {
   "cell_type": "markdown",
   "metadata": {},
   "source": [
    "### `session_id` column"
   ]
  },
  {
   "cell_type": "code",
   "execution_count": 12,
   "metadata": {},
   "outputs": [
    {
     "data": {
      "text/plain": [
       "299"
      ]
     },
     "execution_count": 12,
     "metadata": {},
     "output_type": "execute_result"
    }
   ],
   "source": [
    "len(data[\"session_id\"].unique()) # 299 unique sessions"
   ]
  },
  {
   "cell_type": "markdown",
   "metadata": {},
   "source": [
    "### `customer_id` column"
   ]
  },
  {
   "cell_type": "code",
   "execution_count": 13,
   "metadata": {},
   "outputs": [
    {
     "data": {
      "text/plain": [
       "48"
      ]
     },
     "execution_count": 13,
     "metadata": {},
     "output_type": "execute_result"
    }
   ],
   "source": [
    "len(data[\"customer_id\"].unique()) #48 unique customers in the month of october 2019"
   ]
  },
  {
   "cell_type": "code",
   "execution_count": 14,
   "metadata": {},
   "outputs": [
    {
     "data": {
      "text/plain": [
       "29375.0    22\n",
       "23404.0    20\n",
       "38459.0    18\n",
       "40235.0    17\n",
       "87323.0    17\n",
       "40572.0    16\n",
       "73245.0    15\n",
       "14354.0    15\n",
       "87265.0    12\n",
       "51243.0    12\n",
       "Name: customer_id, dtype: int64"
      ]
     },
     "execution_count": 14,
     "metadata": {},
     "output_type": "execute_result"
    }
   ],
   "source": [
    "data['customer_id'].value_counts().head(10) #Top customers based of their session count. Meaning customer 29375 logged in 22\n",
    "# different times during the monthh of October. "
   ]
  },
  {
   "cell_type": "markdown",
   "metadata": {},
   "source": [
    "### `login_date` column"
   ]
  },
  {
   "cell_type": "code",
   "execution_count": 15,
   "metadata": {},
   "outputs": [
    {
     "data": {
      "text/plain": [
       "30"
      ]
     },
     "execution_count": 15,
     "metadata": {},
     "output_type": "execute_result"
    }
   ],
   "source": [
    "len(data[\"login_date\"].unique()) #number of days in the month in which the sessions where recorded"
   ]
  },
  {
   "cell_type": "markdown",
   "metadata": {},
   "source": [
    "### `projects_added` column"
   ]
  },
  {
   "cell_type": "code",
   "execution_count": 16,
   "metadata": {},
   "outputs": [
    {
     "data": {
      "text/plain": [
       "True     226\n",
       "False     73\n",
       "Name: projects_added, dtype: int64"
      ]
     },
     "execution_count": 16,
     "metadata": {},
     "output_type": "execute_result"
    }
   ],
   "source": [
    "data[\"projects_added\"].value_counts() #Number of times a customer added one ore more project in a session"
   ]
  },
  {
   "cell_type": "code",
   "execution_count": 18,
   "metadata": {},
   "outputs": [
    {
     "data": {
      "text/plain": [
       "Text(0, 0.5, 'Count')"
      ]
     },
     "execution_count": 18,
     "metadata": {},
     "output_type": "execute_result"
    },
    {
     "data": {
      "image/png": "[encoded data removed]",
      "text/plain": [
       "<Figure size 864x432 with 1 Axes>"
      ]
     },
     "metadata": {},
     "output_type": "display_data"
    }
   ],
   "source": [
    "sns.countplot(x='projects_added', data = data)\n",
    "sns.set(rc={'figure.figsize':(12,6)})\n",
    "plt.xlabel(\"Projects\", fontsize = 15)\n",
    "plt.ylabel(\"Count\", fontsize = 15)"
   ]
  },
  {
   "cell_type": "markdown",
   "metadata": {},
   "source": [
    "### `likes_given` column"
   ]
  },
  {
   "cell_type": "code",
   "execution_count": 19,
   "metadata": {},
   "outputs": [
    {
     "data": {
      "text/plain": [
       "True     213\n",
       "False     86\n",
       "Name: likes_given, dtype: int64"
      ]
     },
     "execution_count": 19,
     "metadata": {},
     "output_type": "execute_result"
    }
   ],
   "source": [
    "data[\"likes_given\"].value_counts() #Number times a user gave one or more like in a session"
   ]
  },
  {
   "cell_type": "code",
   "execution_count": 20,
   "metadata": {},
   "outputs": [
    {
     "data": {
      "text/plain": [
       "Text(0, 0.5, 'Count')"
      ]
     },
     "execution_count": 20,
     "metadata": {},
     "output_type": "execute_result"
    },
    {
     "data": {
      "image/png": "[encoded data removed]",
      "text/plain": [
       "<Figure size 864x432 with 1 Axes>"
      ]
     },
     "metadata": {},
     "output_type": "display_data"
    }
   ],
   "source": [
    "sns.countplot(x='likes_given', data = data)\n",
    "sns.set(rc={'figure.figsize':(12,6)})\n",
    "plt.xlabel(\"Likes\", fontsize = 15)\n",
    "plt.ylabel(\"Count\", fontsize = 15)"
   ]
  },
  {
   "cell_type": "markdown",
   "metadata": {},
   "source": [
    "### `comment_given` column"
   ]
  },
  {
   "cell_type": "code",
   "execution_count": 21,
   "metadata": {},
   "outputs": [
    {
     "data": {
      "text/plain": [
       "True     224\n",
       "False     75\n",
       "Name: comment_given, dtype: int64"
      ]
     },
     "execution_count": 21,
     "metadata": {},
     "output_type": "execute_result"
    }
   ],
   "source": [
    "data[\"comment_given\"].value_counts() #Number of times a customer one or more comment during a session"
   ]
  },
  {
   "cell_type": "code",
   "execution_count": 22,
   "metadata": {},
   "outputs": [
    {
     "data": {
      "text/plain": [
       "Text(0, 0.5, 'Count')"
      ]
     },
     "execution_count": 22,
     "metadata": {},
     "output_type": "execute_result"
    },
    {
     "data": {
      "image/png": "[encoded data removed]",
      "text/plain": [
       "<Figure size 864x432 with 1 Axes>"
      ]
     },
     "metadata": {},
     "output_type": "display_data"
    }
   ],
   "source": [
    "sns.countplot(x='comment_given', data = data)\n",
    "sns.set(rc={'figure.figsize':(12,6)})\n",
    "plt.xlabel(\"Comments\", fontsize = 15)\n",
    "plt.ylabel(\"Count\", fontsize = 15)"
   ]
  },
  {
   "cell_type": "markdown",
   "metadata": {},
   "source": [
    "### `inactive_status` column"
   ]
  },
  {
   "cell_type": "code",
   "execution_count": 23,
   "metadata": {},
   "outputs": [
    {
     "data": {
      "text/plain": [
       "True     171\n",
       "False    128\n",
       "Name: inactive_status, dtype: int64"
      ]
     },
     "execution_count": 23,
     "metadata": {},
     "output_type": "execute_result"
    }
   ],
   "source": [
    "data[\"inactive_status\"].value_counts() #Number of times customers were inactive during a session"
   ]
  },
  {
   "cell_type": "code",
   "execution_count": 24,
   "metadata": {},
   "outputs": [
    {
     "data": {
      "text/plain": [
       "Text(0, 0.5, 'Count')"
      ]
     },
     "execution_count": 24,
     "metadata": {},
     "output_type": "execute_result"
    },
    {
     "data": {
      "image/png": "[encoded data removed]",
      "text/plain": [
       "<Figure size 864x432 with 1 Axes>"
      ]
     },
     "metadata": {},
     "output_type": "display_data"
    }
   ],
   "source": [
    "sns.countplot(x='inactive_status', data = data)\n",
    "sns.set(rc={'figure.figsize':(12,6)})\n",
    "plt.xlabel(\"Inactive\", fontsize = 15)\n",
    "plt.ylabel(\"Count\", fontsize = 15)"
   ]
  },
  {
   "cell_type": "markdown",
   "metadata": {},
   "source": [
    "### `bug_occured` column"
   ]
  },
  {
   "cell_type": "code",
   "execution_count": 25,
   "metadata": {},
   "outputs": [
    {
     "data": {
      "text/plain": [
       "False    183\n",
       "True     116\n",
       "Name: bug_occured, dtype: int64"
      ]
     },
     "execution_count": 25,
     "metadata": {},
     "output_type": "execute_result"
    }
   ],
   "source": [
    "data[\"bug_occured\"].value_counts() #Number of bugs occured during a session"
   ]
  },
  {
   "cell_type": "code",
   "execution_count": 26,
   "metadata": {},
   "outputs": [
    {
     "data": {
      "text/plain": [
       "Text(0, 0.5, 'Count')"
      ]
     },
     "execution_count": 26,
     "metadata": {},
     "output_type": "execute_result"
    },
    {
     "data": {
      "image/png": "[encoded data removed]",
      "text/plain": [
       "<Figure size 864x432 with 1 Axes>"
      ]
     },
     "metadata": {},
     "output_type": "display_data"
    }
   ],
   "source": [
    "sns.countplot(x='bug_occured', data = data)\n",
    "sns.set(rc={'figure.figsize':(12,6)})\n",
    "plt.xlabel(\"Bugs\", fontsize = 15)\n",
    "plt.ylabel(\"Count\", fontsize = 15)"
   ]
  },
  {
   "cell_type": "markdown",
   "metadata": {},
   "source": [
    "###  `session_projects_added` Column"
   ]
  },
  {
   "cell_type": "code",
   "execution_count": 27,
   "metadata": {},
   "outputs": [
    {
     "data": {
      "image/png": "[encoded data removed]",
      "text/plain": [
       "<Figure size 432x432 with 1 Axes>"
      ]
     },
     "metadata": {},
     "output_type": "display_data"
    }
   ],
   "source": [
    "## set the figure dimensions\n",
    "hist_fig = plt.figure(figsize = (6, 6))\n",
    "    \n",
    "## make a histogram and set the number of bins to 15\n",
    "_  = plt.hist(data[\"session_projects_added\"], bins = 20)\n",
    "\n",
    "## Set the tick and label fontsize\n",
    "plt.tick_params(labelsize = 15)\n",
    "\n",
    "## Set the title\n",
    "_ = plt.title(\"Project distribution over the sessions\", fontsize = 15)\n",
    "\n",
    "## Set the y-label\n",
    "_ = plt.ylabel(\"Number of Sessions\", fontsize = 15)\n",
    "\n",
    "## Set the y-label\n",
    "_ = plt.xlabel(\"Number of Projects\", fontsize = 15)"
   ]
  },
  {
   "cell_type": "markdown",
   "metadata": {},
   "source": [
    "The above histigram shows the distibution of projects across all the sessions. We can see that the customers mostly added 0,1,2 and 3 projects during the month of october.  "
   ]
  },
  {
   "cell_type": "markdown",
   "metadata": {},
   "source": [
    "### `session_likes_given` column"
   ]
  },
  {
   "cell_type": "code",
   "execution_count": 28,
   "metadata": {},
   "outputs": [
    {
     "data": {
      "image/png": "[encoded data removed]",
      "text/plain": [
       "<Figure size 432x432 with 1 Axes>"
      ]
     },
     "metadata": {},
     "output_type": "display_data"
    }
   ],
   "source": [
    "## set the figure dimensions\n",
    "hist_fig = plt.figure(figsize = (6, 6))\n",
    "    \n",
    "## make a histogram and set the number of bins to 15\n",
    "_  = plt.hist(data[\"session_likes_given\"], bins = 20)\n",
    "\n",
    "## Set the tick and label fontsize\n",
    "plt.tick_params(labelsize = 15)\n",
    "\n",
    "## Set the title\n",
    "_ = plt.title(\"Project distribution over the sessions\", fontsize = 15)\n",
    "\n",
    "## Set the y-label\n",
    "_ = plt.ylabel(\"Number of Sessions\", fontsize = 15)\n",
    "\n",
    "## Set the y-label\n",
    "_ = plt.xlabel(\"Number of Projects\", fontsize = 15)"
   ]
  },
  {
   "cell_type": "markdown",
   "metadata": {},
   "source": [
    "### `session_comments_given` column"
   ]
  },
  {
   "cell_type": "code",
   "execution_count": 29,
   "metadata": {},
   "outputs": [
    {
     "data": {
      "image/png": "[encoded data removed]",
      "text/plain": [
       "<Figure size 432x432 with 1 Axes>"
      ]
     },
     "metadata": {},
     "output_type": "display_data"
    }
   ],
   "source": [
    "## set the figure dimensions\n",
    "hist_fig = plt.figure(figsize = (6, 6))\n",
    "    \n",
    "## make a histogram and set the number of bins to 15\n",
    "_  = plt.hist(data[\"session_comments_given\"], bins = 20)\n",
    "\n",
    "## Set the tick and label fontsize\n",
    "plt.tick_params(labelsize = 15)\n",
    "\n",
    "## Set the title\n",
    "_ = plt.title(\"Distribution of comments over session\", fontsize = 15)\n",
    "\n",
    "## Set the y-label\n",
    "_ = plt.ylabel(\"Number of Sessions\", fontsize = 15)\n",
    "\n",
    "## Set the y-label\n",
    "_ = plt.xlabel(\"Number of Comments\", fontsize = 15)"
   ]
  },
  {
   "cell_type": "markdown",
   "metadata": {},
   "source": [
    "### `inactive_duration` column"
   ]
  },
  {
   "cell_type": "code",
   "execution_count": 30,
   "metadata": {},
   "outputs": [
    {
     "data": {
      "image/png": "[encoded data removed]",
      "text/plain": [
       "<Figure size 432x432 with 1 Axes>"
      ]
     },
     "metadata": {},
     "output_type": "display_data"
    }
   ],
   "source": [
    "## set the figure dimensions\n",
    "hist_fig = plt.figure(figsize = (6, 6))\n",
    "    \n",
    "## make a histogram and set the number of bins to 15\n",
    "_  = plt.hist(data[\"inactive_duration\"], bins = 20)\n",
    "\n",
    "## Set the tick and label fontsize\n",
    "plt.tick_params(labelsize = 15)\n",
    "\n",
    "## Set the title\n",
    "_ = plt.title(\"Distibution of Inactive Duration\", fontsize = 15)\n",
    "\n",
    "## Set the y-label\n",
    "_ = plt.ylabel(\"Number of Sessions\", fontsize = 15)\n",
    "\n",
    "## Set the y-label\n",
    "_ = plt.xlabel(\"Inactive Duration(Seconds)\", fontsize = 15)"
   ]
  },
  {
   "cell_type": "markdown",
   "metadata": {},
   "source": [
    "### `bugs_in_session` column"
   ]
  },
  {
   "cell_type": "code",
   "execution_count": 31,
   "metadata": {},
   "outputs": [
    {
     "data": {
      "image/png": "[encoded data removed]",
      "text/plain": [
       "<Figure size 432x432 with 1 Axes>"
      ]
     },
     "metadata": {},
     "output_type": "display_data"
    }
   ],
   "source": [
    "## set the figure dimensions\n",
    "hist_fig = plt.figure(figsize = (6, 6))\n",
    "    \n",
    "## make a histogram and set the number of bins to 15\n",
    "_  = plt.hist(data[\"bugs_in_session\"], bins = 20)\n",
    "\n",
    "## Set the tick and label fontsize\n",
    "plt.tick_params(labelsize = 15)\n",
    "\n",
    "## Set the title\n",
    "_ = plt.title(\"Distribution of Bugs over session\", fontsize = 15)\n",
    "\n",
    "## Set the y-label\n",
    "_ = plt.ylabel(\"Number of Sessions\", fontsize = 15)\n",
    "\n",
    "## Set the y-label\n",
    "_ = plt.xlabel(\"Number of Bugs\", fontsize = 15)"
   ]
  },
  {
   "cell_type": "markdown",
   "metadata": {},
   "source": [
    "### `session_duration` column"
   ]
  },
  {
   "cell_type": "code",
   "execution_count": 32,
   "metadata": {},
   "outputs": [
    {
     "data": {
      "image/png": "[encoded data removed]",
      "text/plain": [
       "<Figure size 576x576 with 1 Axes>"
      ]
     },
     "metadata": {},
     "output_type": "display_data"
    }
   ],
   "source": [
    "## set the figure dimensions\n",
    "hist_fig = plt.figure(figsize = (8, 8))\n",
    "    \n",
    "## make a histogram and set the number of bins to 15\n",
    "_  = plt.hist(data[\"session_duration\"], bins = 20)\n",
    "\n",
    "## Set the tick and label fontsize\n",
    "plt.tick_params(labelsize = 15)\n",
    "\n",
    "## Set the title\n",
    "_ = plt.title(\"Distribution of Session Duration\", fontsize = 15)\n",
    "\n",
    "## Set the y-label\n",
    "_ = plt.ylabel(\"Number of Sessions\", fontsize = 15)\n",
    "\n",
    "## Set the y-label\n",
    "_ = plt.xlabel(\"Session Duration(Seconds)\", fontsize = 15)"
   ]
  },
  {
   "cell_type": "code",
   "execution_count": 33,
   "metadata": {},
   "outputs": [],
   "source": [
    "new = data.groupby(\"session_id\").mean()"
   ]
  },
  {
   "cell_type": "code",
   "execution_count": 34,
   "metadata": {},
   "outputs": [
    {
     "data": {
      "text/html": [
       "<div>\n",
       "<style scoped>\n",
       "    .dataframe tbody tr th:only-of-type {\n",
       "        vertical-align: middle;\n",
       "    }\n",
       "\n",
       "    .dataframe tbody tr th {\n",
       "        vertical-align: top;\n",
       "    }\n",
       "\n",
       "    .dataframe thead th {\n",
       "        text-align: right;\n",
       "    }\n",
       "</style>\n",
       "<table border=\"1\" class=\"dataframe\">\n",
       "  <thead>\n",
       "    <tr style=\"text-align: right;\">\n",
       "      <th></th>\n",
       "      <th>customer_id</th>\n",
       "      <th>session_projects_added</th>\n",
       "      <th>session_likes_given</th>\n",
       "      <th>session_comments_given</th>\n",
       "      <th>inactive_duration</th>\n",
       "      <th>bugs_in_session</th>\n",
       "      <th>session_duration</th>\n",
       "    </tr>\n",
       "    <tr>\n",
       "      <th>session_id</th>\n",
       "      <th></th>\n",
       "      <th></th>\n",
       "      <th></th>\n",
       "      <th></th>\n",
       "      <th></th>\n",
       "      <th></th>\n",
       "      <th></th>\n",
       "    </tr>\n",
       "  </thead>\n",
       "  <tbody>\n",
       "    <tr>\n",
       "      <th>22885.0</th>\n",
       "      <td>29356.0</td>\n",
       "      <td>0.0</td>\n",
       "      <td>19.0</td>\n",
       "      <td>5.0</td>\n",
       "      <td>1504.0</td>\n",
       "      <td>3.0</td>\n",
       "      <td>717.0</td>\n",
       "    </tr>\n",
       "    <tr>\n",
       "      <th>23570.0</th>\n",
       "      <td>38459.0</td>\n",
       "      <td>0.0</td>\n",
       "      <td>22.0</td>\n",
       "      <td>4.0</td>\n",
       "      <td>0.0</td>\n",
       "      <td>0.0</td>\n",
       "      <td>221.0</td>\n",
       "    </tr>\n",
       "    <tr>\n",
       "      <th>30840.0</th>\n",
       "      <td>40235.0</td>\n",
       "      <td>1.0</td>\n",
       "      <td>0.0</td>\n",
       "      <td>1.0</td>\n",
       "      <td>0.0</td>\n",
       "      <td>5.0</td>\n",
       "      <td>1778.0</td>\n",
       "    </tr>\n",
       "    <tr>\n",
       "      <th>33604.0</th>\n",
       "      <td>43057.0</td>\n",
       "      <td>0.0</td>\n",
       "      <td>0.0</td>\n",
       "      <td>5.0</td>\n",
       "      <td>0.0</td>\n",
       "      <td>2.0</td>\n",
       "      <td>2147.0</td>\n",
       "    </tr>\n",
       "    <tr>\n",
       "      <th>42216.0</th>\n",
       "      <td>43086.0</td>\n",
       "      <td>2.0</td>\n",
       "      <td>0.0</td>\n",
       "      <td>0.0</td>\n",
       "      <td>2437.0</td>\n",
       "      <td>5.0</td>\n",
       "      <td>2228.0</td>\n",
       "    </tr>\n",
       "    <tr>\n",
       "      <th>...</th>\n",
       "      <td>...</td>\n",
       "      <td>...</td>\n",
       "      <td>...</td>\n",
       "      <td>...</td>\n",
       "      <td>...</td>\n",
       "      <td>...</td>\n",
       "      <td>...</td>\n",
       "    </tr>\n",
       "    <tr>\n",
       "      <th>958269.0</th>\n",
       "      <td>23083.0</td>\n",
       "      <td>1.0</td>\n",
       "      <td>19.0</td>\n",
       "      <td>1.0</td>\n",
       "      <td>0.0</td>\n",
       "      <td>3.0</td>\n",
       "      <td>873.0</td>\n",
       "    </tr>\n",
       "    <tr>\n",
       "      <th>967732.0</th>\n",
       "      <td>40572.0</td>\n",
       "      <td>2.0</td>\n",
       "      <td>0.0</td>\n",
       "      <td>4.0</td>\n",
       "      <td>290.0</td>\n",
       "      <td>4.0</td>\n",
       "      <td>861.0</td>\n",
       "    </tr>\n",
       "    <tr>\n",
       "      <th>993956.0</th>\n",
       "      <td>82963.0</td>\n",
       "      <td>3.0</td>\n",
       "      <td>0.0</td>\n",
       "      <td>0.0</td>\n",
       "      <td>1345.0</td>\n",
       "      <td>0.0</td>\n",
       "      <td>1869.0</td>\n",
       "    </tr>\n",
       "    <tr>\n",
       "      <th>997629.0</th>\n",
       "      <td>12496.0</td>\n",
       "      <td>2.0</td>\n",
       "      <td>24.0</td>\n",
       "      <td>9.0</td>\n",
       "      <td>0.0</td>\n",
       "      <td>0.0</td>\n",
       "      <td>2381.0</td>\n",
       "    </tr>\n",
       "    <tr>\n",
       "      <th>999480.0</th>\n",
       "      <td>23083.0</td>\n",
       "      <td>0.0</td>\n",
       "      <td>0.0</td>\n",
       "      <td>1.0</td>\n",
       "      <td>1535.0</td>\n",
       "      <td>0.0</td>\n",
       "      <td>695.0</td>\n",
       "    </tr>\n",
       "  </tbody>\n",
       "</table>\n",
       "<p>299 rows × 7 columns</p>\n",
       "</div>"
      ],
      "text/plain": [
       "            customer_id  session_projects_added  session_likes_given  \\\n",
       "session_id                                                             \n",
       "22885.0         29356.0                     0.0                 19.0   \n",
       "23570.0         38459.0                     0.0                 22.0   \n",
       "30840.0         40235.0                     1.0                  0.0   \n",
       "33604.0         43057.0                     0.0                  0.0   \n",
       "42216.0         43086.0                     2.0                  0.0   \n",
       "...                 ...                     ...                  ...   \n",
       "958269.0        23083.0                     1.0                 19.0   \n",
       "967732.0        40572.0                     2.0                  0.0   \n",
       "993956.0        82963.0                     3.0                  0.0   \n",
       "997629.0        12496.0                     2.0                 24.0   \n",
       "999480.0        23083.0                     0.0                  0.0   \n",
       "\n",
       "            session_comments_given  inactive_duration  bugs_in_session  \\\n",
       "session_id                                                               \n",
       "22885.0                        5.0             1504.0              3.0   \n",
       "23570.0                        4.0                0.0              0.0   \n",
       "30840.0                        1.0                0.0              5.0   \n",
       "33604.0                        5.0                0.0              2.0   \n",
       "42216.0                        0.0             2437.0              5.0   \n",
       "...                            ...                ...              ...   \n",
       "958269.0                       1.0                0.0              3.0   \n",
       "967732.0                       4.0              290.0              4.0   \n",
       "993956.0                       0.0             1345.0              0.0   \n",
       "997629.0                       9.0                0.0              0.0   \n",
       "999480.0                       1.0             1535.0              0.0   \n",
       "\n",
       "            session_duration  \n",
       "session_id                    \n",
       "22885.0                717.0  \n",
       "23570.0                221.0  \n",
       "30840.0               1778.0  \n",
       "33604.0               2147.0  \n",
       "42216.0               2228.0  \n",
       "...                      ...  \n",
       "958269.0               873.0  \n",
       "967732.0               861.0  \n",
       "993956.0              1869.0  \n",
       "997629.0              2381.0  \n",
       "999480.0               695.0  \n",
       "\n",
       "[299 rows x 7 columns]"
      ]
     },
     "execution_count": 34,
     "metadata": {},
     "output_type": "execute_result"
    }
   ],
   "source": [
    "new"
   ]
  },
  {
   "cell_type": "markdown",
   "metadata": {},
   "source": [
    "## <font color = red> **User Engagement Metric: Session Length**"
   ]
  },
  {
   "cell_type": "code",
   "execution_count": 35,
   "metadata": {},
   "outputs": [
    {
     "data": {
      "text/plain": [
       "218760.0"
      ]
     },
     "execution_count": 35,
     "metadata": {},
     "output_type": "execute_result"
    }
   ],
   "source": [
    "data[\"inactive_duration\"].sum() #Total Inactive Duration"
   ]
  },
  {
   "cell_type": "code",
   "execution_count": 36,
   "metadata": {},
   "outputs": [
    {
     "data": {
      "text/plain": [
       "731.6387959866221"
      ]
     },
     "execution_count": 36,
     "metadata": {},
     "output_type": "execute_result"
    }
   ],
   "source": [
    "new[\"inactive_duration\"].mean() #Average inactive duration per session"
   ]
  },
  {
   "cell_type": "code",
   "execution_count": 37,
   "metadata": {},
   "outputs": [
    {
     "data": {
      "text/plain": [
       "355934.0"
      ]
     },
     "execution_count": 37,
     "metadata": {},
     "output_type": "execute_result"
    }
   ],
   "source": [
    "data[\"session_duration\"].sum() #Total Session duration for October"
   ]
  },
  {
   "cell_type": "code",
   "execution_count": 38,
   "metadata": {},
   "outputs": [
    {
     "data": {
      "text/plain": [
       "355934.0"
      ]
     },
     "execution_count": 38,
     "metadata": {},
     "output_type": "execute_result"
    }
   ],
   "source": [
    "new[\"session_duration\"].sum() #Average duration for a session"
   ]
  },
  {
   "cell_type": "markdown",
   "metadata": {},
   "source": [
    "### <font color = red>**User Engagement Metrics - Interaction**"
   ]
  },
  {
   "cell_type": "code",
   "execution_count": 39,
   "metadata": {},
   "outputs": [
    {
     "data": {
      "text/plain": [
       "3127.0"
      ]
     },
     "execution_count": 39,
     "metadata": {},
     "output_type": "execute_result"
    }
   ],
   "source": [
    "data[\"session_likes_given\"].sum() #Total Likes given"
   ]
  },
  {
   "cell_type": "code",
   "execution_count": 40,
   "metadata": {},
   "outputs": [
    {
     "data": {
      "text/plain": [
       "10.45819397993311"
      ]
     },
     "execution_count": 40,
     "metadata": {},
     "output_type": "execute_result"
    }
   ],
   "source": [
    "new[\"session_likes_given\"].mean() #Average likes per session"
   ]
  },
  {
   "cell_type": "code",
   "execution_count": 41,
   "metadata": {},
   "outputs": [
    {
     "data": {
      "text/plain": [
       "720.0"
      ]
     },
     "execution_count": 41,
     "metadata": {},
     "output_type": "execute_result"
    }
   ],
   "source": [
    "data[\"session_comments_given\"].sum() #Total Comments in October"
   ]
  },
  {
   "cell_type": "code",
   "execution_count": 42,
   "metadata": {},
   "outputs": [
    {
     "data": {
      "text/plain": [
       "2.408026755852843"
      ]
     },
     "execution_count": 42,
     "metadata": {},
     "output_type": "execute_result"
    }
   ],
   "source": [
    "new[\"session_comments_given\"].mean() #Average comments per session"
   ]
  },
  {
   "cell_type": "code",
   "execution_count": 43,
   "metadata": {},
   "outputs": [
    {
     "data": {
      "text/plain": [
       "484.0"
      ]
     },
     "execution_count": 43,
     "metadata": {},
     "output_type": "execute_result"
    }
   ],
   "source": [
    "data[\"session_projects_added\"].sum() #Total Projects in October"
   ]
  },
  {
   "cell_type": "code",
   "execution_count": 44,
   "metadata": {},
   "outputs": [
    {
     "data": {
      "text/plain": [
       "1.6187290969899666"
      ]
     },
     "execution_count": 44,
     "metadata": {},
     "output_type": "execute_result"
    }
   ],
   "source": [
    "new[\"session_projects_added\"].mean() #Average project added per session "
   ]
  }
 ],
 "metadata": {
  "kernelspec": {
   "display_name": "Python 3",
   "language": "python",
   "name": "python3"
  },
  "language_info": {
   "codemirror_mode": {
    "name": "ipython",
    "version": 3
   },
   "file_extension": ".py",
   "mimetype": "text/x-python",
   "name": "python",
   "nbconvert_exporter": "python",
   "pygments_lexer": "ipython3",
   "version": "3.7.6"
  }
 },
 "nbformat": 4,
 "nbformat_minor": 4
}
